{
 "cells": [
  {
   "cell_type": "markdown",
   "metadata": {},
   "source": [
    "## Importing subtitles data"
   ]
  },
  {
   "cell_type": "code",
   "execution_count": 6,
   "metadata": {
    "collapsed": true
   },
   "outputs": [],
   "source": [
    "import glob\n",
    "import os\n",
    "import sys"
   ]
  },
  {
   "cell_type": "code",
   "execution_count": 7,
   "metadata": {
    "collapsed": true
   },
   "outputs": [],
   "source": [
    "seasons = [1, 6, 7, 10]\n",
    "seasons = [str(season) for season in seasons]"
   ]
  },
  {
   "cell_type": "code",
   "execution_count": 8,
   "metadata": {},
   "outputs": [],
   "source": [
    "subtitles_data = []\n",
    "\n",
    "for season in seasons:\n",
    "    path = './data/friends-season-' + season + '/'\n",
    "    for file in os.listdir(path):\n",
    "        f = open(path + file, 'rb')\n",
    "        content = f.read().decode('utf8', 'ignore')\n",
    "        subtitles_data.append(content)"
   ]
  },
  {
   "cell_type": "markdown",
   "metadata": {},
   "source": [
    "## Extracting only lines (대사) from the files"
   ]
  },
  {
   "cell_type": "code",
   "execution_count": 9,
   "metadata": {
    "collapsed": true
   },
   "outputs": [],
   "source": [
    "def extract_dialogue(file_content):\n",
    "    dialogue = []\n",
    "    lines = file_content.split('\\r\\n\\r\\n')\n",
    "    for line in lines:\n",
    "        dialogue.extend(line.split('\\r\\n')[2:])\n",
    "    return dialogue"
   ]
  },
  {
   "cell_type": "code",
   "execution_count": 10,
   "metadata": {
    "collapsed": true
   },
   "outputs": [],
   "source": [
    "subtitles_lines = []\n",
    "for content in subtitles_data:\n",
    "    subtitles_lines.append(extract_dialogue(content))"
   ]
  },
  {
   "cell_type": "markdown",
   "metadata": {},
   "source": [
    "## Recognizing Proper Noun via POS tagging"
   ]
  },
  {
   "cell_type": "code",
   "execution_count": 11,
   "metadata": {
    "collapsed": true
   },
   "outputs": [],
   "source": [
    "from nltk.tag import pos_tag\n",
    "from nltk.tokenize import word_tokenize"
   ]
  },
  {
   "cell_type": "code",
   "execution_count": 12,
   "metadata": {
    "collapsed": true
   },
   "outputs": [],
   "source": [
    "pps = []\n",
    "for line in subtitles_lines[0][3:-1]:\n",
    "#     tagged_sent = pos_tag([token.lower() for token in word_tokenize(line)])\n",
    "    tagged_sent = pos_tag(word_tokenize(line))\n",
    "    pps.extend ([word for word, pos in tagged_sent if pos == 'NNP'])"
   ]
  },
  {
   "cell_type": "markdown",
   "metadata": {},
   "source": [
    "## Removing stop words"
   ]
  },
  {
   "cell_type": "code",
   "execution_count": 15,
   "metadata": {
    "collapsed": true
   },
   "outputs": [],
   "source": [
    "f = open('./stopwords.txt', 'r')\n",
    "stoplist = set(f.read().split())\n",
    "f.close()"
   ]
  },
  {
   "cell_type": "code",
   "execution_count": 16,
   "metadata": {
    "collapsed": true
   },
   "outputs": [],
   "source": [
    "pps_ = [pp for pp in pps if not pp.lower() in stoplist]"
   ]
  },
  {
   "cell_type": "markdown",
   "metadata": {},
   "source": [
    "## Using NLTK.Tree for recognizing NNP"
   ]
  },
  {
   "cell_type": "code",
   "execution_count": 28,
   "metadata": {
    "collapsed": true
   },
   "outputs": [],
   "source": [
    "from nltk.tree import Tree\n",
    "from nltk.chunk import ne_chunk\n",
    "\n",
    "pps = []\n",
    "for line in subtitles_lines[0][3:-1]:\n",
    "    tagged_sent = pos_tag(word_tokenize(line))\n",
    "    pps.extend([chunk[0][0] for chunk in ne_chunk(tagged_sent) \\\n",
    "                if isinstance(chunk, Tree) and chunk._label == 'PERSON'])"
   ]
  },
  {
   "cell_type": "markdown",
   "metadata": {},
   "source": [
    "## Extracting verbs from the sentence"
   ]
  },
  {
   "cell_type": "code",
   "execution_count": 58,
   "metadata": {
    "collapsed": true
   },
   "outputs": [],
   "source": [
    "verbs = []\n",
    "tagged_sents = []\n",
    "for line in subtitles_lines[0][3:-1]:\n",
    "    tagged_sent = pos_tag(word_tokenize(line))\n",
    "    verbs.extend ([(word, pos) for word, pos in tagged_sent if pos.startswith('VB')])\n",
    "    tagged_sents.append(tagged_sent)"
   ]
  },
  {
   "cell_type": "code",
   "execution_count": null,
   "metadata": {
    "collapsed": true
   },
   "outputs": [],
   "source": []
  }
 ],
 "metadata": {
  "kernelspec": {
   "display_name": "Python 3",
   "language": "python",
   "name": "python3"
  },
  "language_info": {
   "codemirror_mode": {
    "name": "ipython",
    "version": 3
   },
   "file_extension": ".py",
   "mimetype": "text/x-python",
   "name": "python",
   "nbconvert_exporter": "python",
   "pygments_lexer": "ipython3",
   "version": "3.6.3"
  }
 },
 "nbformat": 4,
 "nbformat_minor": 2
}

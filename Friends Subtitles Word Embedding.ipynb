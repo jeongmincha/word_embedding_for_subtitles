{
 "cells": [
  {
   "cell_type": "markdown",
   "metadata": {},
   "source": [
    "## Importing subtitles data"
   ]
  },
  {
   "cell_type": "code",
   "execution_count": 68,
   "metadata": {},
   "outputs": [],
   "source": [
    "import glob\n",
    "import unicodedata\n",
    "import codecs"
   ]
  },
  {
   "cell_type": "code",
   "execution_count": 102,
   "metadata": {},
   "outputs": [],
   "source": [
    "BASE_PATH = './friends-season-1/'\n",
    "idcs = [str(_).zfill(2) for _ in range(1, 25)]\n",
    "subtitles_data = []\n",
    "\n",
    "for idx in idcs[:]:\n",
    "    fn = glob.glob(BASE_PATH + '*1x' + idx + '*')\n",
    "    f = open(fn[0], 'rb')\n",
    "    \n",
    "    content = f.read().decode('utf8', 'ignore')\n",
    "    subtitles_data.append(content)"
   ]
  },
  {
   "cell_type": "markdown",
   "metadata": {},
   "source": [
    "## Extracting only lines (대사) from the files"
   ]
  },
  {
   "cell_type": "code",
   "execution_count": 99,
   "metadata": {},
   "outputs": [],
   "source": [
    "def extract_dialogue(file_content):\n",
    "    dialogue = []\n",
    "    lines = file_content.split('\\r\\n\\r\\n')\n",
    "    for line in lines:\n",
    "        dialogue.extend(line.split('\\r\\n')[2:])\n",
    "    return dialogue"
   ]
  },
  {
   "cell_type": "code",
   "execution_count": 104,
   "metadata": {},
   "outputs": [],
   "source": [
    "subtitles_lines = []\n",
    "for content in subtitles_data:\n",
    "    subtitles_lines.append(extract_dialogue(content))"
   ]
  },
  {
   "cell_type": "markdown",
   "metadata": {},
   "source": [
    "## Recognizing Proper Noun via POS tagging"
   ]
  },
  {
   "cell_type": "code",
   "execution_count": 117,
   "metadata": {},
   "outputs": [],
   "source": [
    "from nltk.tag import pos_tag\n",
    "from nltk.tokenize import word_tokenize"
   ]
  },
  {
   "cell_type": "code",
   "execution_count": 155,
   "metadata": {},
   "outputs": [],
   "source": [
    "pps = []\n",
    "for line in subtitles_lines[0][3:-1]:\n",
    "#     tagged_sent = pos_tag([token.lower() for token in word_tokenize(line)])\n",
    "    tagged_sent = pos_tag(word_tokenize(line))\n",
    "    pps.extend ([word for word, pos in tagged_sent if pos == 'NNP'])"
   ]
  },
  {
   "cell_type": "markdown",
   "metadata": {},
   "source": [
    "## Removing stop words"
   ]
  },
  {
   "cell_type": "code",
   "execution_count": 192,
   "metadata": {},
   "outputs": [],
   "source": [
    "f = open('./stopwords.txt', 'r')\n",
    "stoplist = set(f.read().split())\n",
    "f.close()"
   ]
  },
  {
   "cell_type": "code",
   "execution_count": 193,
   "metadata": {},
   "outputs": [],
   "source": [
    "pps_ = [pp for pp in pps if not pp.lower() in stoplist]"
   ]
  },
  {
   "cell_type": "code",
   "execution_count": 194,
   "metadata": {},
   "outputs": [
    {
     "data": {
      "text/plain": [
       "['Joey',\n",
       " 'Carl',\n",
       " 'Carol',\n",
       " 'Stop',\n",
       " 'Fine',\n",
       " 'Strip',\n",
       " 'Rachel',\n",
       " 'Monica',\n",
       " 'Rachel',\n",
       " 'Lincoln',\n",
       " 'Chandler',\n",
       " 'Phoebe',\n",
       " 'Joey',\n",
       " 'Ross',\n",
       " 'Sweet',\n",
       " \"'N\",\n",
       " 'Low',\n",
       " 'Barry',\n",
       " 'Barry',\n",
       " 'Potato',\n",
       " 'Head',\n",
       " 'Christine',\n",
       " 'Daddy',\n",
       " 'Push',\n",
       " 'Push',\n",
       " 'Daddy',\n",
       " 'Daddy',\n",
       " 'Daddy',\n",
       " 'Monica',\n",
       " 'Monica',\n",
       " 'Breathe',\n",
       " 'La',\n",
       " 'la',\n",
       " 'Joey',\n",
       " 'Chandler',\n",
       " 'Joey',\n",
       " 'Please',\n",
       " 'Paul',\n",
       " 'Buzz',\n",
       " 'Paul',\n",
       " 'Paul',\n",
       " 'Diary',\n",
       " 'Rach',\n",
       " 'Please',\n",
       " 'Ross',\n",
       " 'Paul',\n",
       " 'Hi',\n",
       " 'Paul',\n",
       " 'Paul',\n",
       " 'Paul',\n",
       " 'Change',\n",
       " 'Sit',\n",
       " 'Hey',\n",
       " 'Paul',\n",
       " 'Shut',\n",
       " 'Joey',\n",
       " 'Rachel',\n",
       " 'Aruba',\n",
       " 'Aruba',\n",
       " 'Chandler',\n",
       " 'Pheebs',\n",
       " 'Love',\n",
       " 'Love',\n",
       " 'Carol',\n",
       " 'Please',\n",
       " 'Barry',\n",
       " 'Mr.',\n",
       " 'Barry',\n",
       " 'Finkel',\n",
       " 'Shut',\n",
       " 'Mento',\n",
       " 'Rocky',\n",
       " 'Welcome',\n",
       " 'I.',\n",
       " 'Joanie',\n",
       " 'Louise',\n",
       " 'Cunningham',\n",
       " 'Charles',\n",
       " 'Chachi',\n",
       " 'Chachi',\n",
       " 'Chachi',\n",
       " 'Joanie',\n",
       " 'Chachi',\n",
       " 'Andrea',\n",
       " 'Angela',\n",
       " 'Andrea',\n",
       " 'Oh',\n",
       " 'Andrea',\n",
       " 'Angela',\n",
       " 'Julie',\n",
       " 'Poland',\n",
       " 'Lenny',\n",
       " 'Squiggy',\n",
       " 'Paul',\n",
       " 'Paul',\n",
       " 'Paul',\n",
       " 'Witness',\n",
       " 'Shut',\n",
       " 'Wee',\n",
       " 'Pinocchio',\n",
       " 'Little',\n",
       " 'Theater',\n",
       " 'Park',\n",
       " 'Geppeto',\n",
       " 'Chandler',\n",
       " 'Barry',\n",
       " 'Remember',\n",
       " 'Tony',\n",
       " 'De',\n",
       " 'Marco',\n",
       " 'Monica',\n",
       " 'Franny',\n",
       " 'Welcome',\n",
       " 'Florida',\n",
       " 'Parrot',\n",
       " 'Jungle',\n",
       " 'Paul',\n",
       " 'Paul',\n",
       " 'Paul',\n",
       " 'Paul',\n",
       " 'Paul',\n",
       " 'Paul',\n",
       " 'Joan',\n",
       " 'David',\n",
       " 'Cut',\n",
       " 'Paul',\n",
       " 'Monica',\n",
       " 'Listen',\n",
       " 'Las',\n",
       " 'Vegas',\n",
       " 'Miss',\n",
       " 'Las',\n",
       " 'Vegas',\n",
       " 'Las',\n",
       " 'Vegas',\n",
       " 'Minnelli',\n",
       " '/font']"
      ]
     },
     "execution_count": 194,
     "metadata": {},
     "output_type": "execute_result"
    }
   ],
   "source": [
    "pps_"
   ]
  },
  {
   "cell_type": "code",
   "execution_count": 191,
   "metadata": {},
   "outputs": [
    {
     "data": {
      "text/plain": [
       "[('Carl', 'NNP'), (',', ',')]"
      ]
     },
     "execution_count": 191,
     "metadata": {},
     "output_type": "execute_result"
    }
   ],
   "source": [
    "pos_tag(word_tokenize('Carl,'))"
   ]
  },
  {
   "cell_type": "code",
   "execution_count": null,
   "metadata": {},
   "outputs": [],
   "source": []
  }
 ],
 "metadata": {
  "kernelspec": {
   "display_name": "Python 3",
   "language": "python",
   "name": "python3"
  },
  "language_info": {
   "codemirror_mode": {
    "name": "ipython",
    "version": 3
   },
   "file_extension": ".py",
   "mimetype": "text/x-python",
   "name": "python",
   "nbconvert_exporter": "python",
   "pygments_lexer": "ipython3",
   "version": "3.5.4"
  }
 },
 "nbformat": 4,
 "nbformat_minor": 2
}

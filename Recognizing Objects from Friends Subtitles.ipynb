{
 "cells": [
  {
   "cell_type": "markdown",
   "metadata": {},
   "source": [
    "## Importing subtitles data"
   ]
  },
  {
   "cell_type": "code",
   "execution_count": 6,
   "metadata": {
    "collapsed": true
   },
   "outputs": [],
   "source": [
    "import glob\n",
    "import os\n",
    "import sys"
   ]
  },
  {
   "cell_type": "code",
   "execution_count": 7,
   "metadata": {
    "collapsed": true
   },
   "outputs": [],
   "source": [
    "seasons = [1, 6, 7, 10]\n",
    "seasons = [str(season) for season in seasons]"
   ]
  },
  {
   "cell_type": "code",
   "execution_count": 8,
   "metadata": {},
   "outputs": [],
   "source": [
    "subtitles_data = []\n",
    "\n",
    "for season in seasons:\n",
    "    path = './data/friends-season-' + season + '/'\n",
    "    for file in os.listdir(path):\n",
    "        f = open(path + file, 'rb')\n",
    "        content = f.read().decode('utf8', 'ignore')\n",
    "        subtitles_data.append(content)"
   ]
  },
  {
   "cell_type": "markdown",
   "metadata": {},
   "source": [
    "## Extracting only lines (대사) from the files"
   ]
  },
  {
   "cell_type": "code",
   "execution_count": 9,
   "metadata": {
    "collapsed": true
   },
   "outputs": [],
   "source": [
    "def extract_dialogue(file_content):\n",
    "    dialogue = []\n",
    "    lines = file_content.split('\\r\\n\\r\\n')\n",
    "    for line in lines:\n",
    "        dialogue.extend(line.split('\\r\\n')[2:])\n",
    "    return dialogue"
   ]
  },
  {
   "cell_type": "code",
   "execution_count": 10,
   "metadata": {
    "collapsed": true
   },
   "outputs": [],
   "source": [
    "subtitles_lines = []\n",
    "for content in subtitles_data:\n",
    "    subtitles_lines.append(extract_dialogue(content))"
   ]
  },
  {
   "cell_type": "markdown",
   "metadata": {},
   "source": [
    "## Recognizing Proper Noun via POS tagging"
   ]
  },
  {
   "cell_type": "code",
   "execution_count": 11,
   "metadata": {
    "collapsed": true
   },
   "outputs": [],
   "source": [
    "from nltk.tag import pos_tag\n",
    "from nltk.tokenize import word_tokenize"
   ]
  },
  {
   "cell_type": "code",
   "execution_count": 22,
   "metadata": {
    "collapsed": true
   },
   "outputs": [],
   "source": [
    "pps = []\n",
    "for line in subtitles_lines[0][3:-1]:\n",
    "#     tagged_sent = pos_tag([token.lower() for token in word_tokenize(line)])\n",
    "    tagged_sent = pos_tag(word_tokenize(line))\n",
    "    pps.extend ([word for word, pos in tagged_sent if pos == 'NNP'])"
   ]
  },
  {
   "cell_type": "code",
   "execution_count": 25,
   "metadata": {},
   "outputs": [
    {
     "data": {
      "text/plain": [
       "['Notice',\n",
       " 'Freud',\n",
       " 'Magic',\n",
       " 'Eva',\n",
       " 'Butt',\n",
       " 'GELULA',\n",
       " 'CO.',\n",
       " 'INC',\n",
       " 'Did',\n",
       " 'Ross',\n",
       " 'Come',\n",
       " 'Ross',\n",
       " 'Okay',\n",
       " 'Chandler',\n",
       " 'Thank',\n",
       " 'Chandler',\n",
       " 'Come',\n",
       " 'Aurora',\n",
       " 'Estelle',\n",
       " 'Leonard']"
      ]
     },
     "execution_count": 25,
     "metadata": {},
     "output_type": "execute_result"
    }
   ],
   "source": [
    "pps[:20]"
   ]
  },
  {
   "cell_type": "markdown",
   "metadata": {},
   "source": [
    "## Removing stop words"
   ]
  },
  {
   "cell_type": "code",
   "execution_count": 38,
   "metadata": {
    "collapsed": true
   },
   "outputs": [],
   "source": [
    "def remove_stopwords(pps):\n",
    "    f = open('./stopwords.txt', 'r')\n",
    "    stoplist = set(f.read().split())\n",
    "    f.close()    \n",
    "    pps_ = [pp for pp in pps if not pp.lower() in stoplist]\n",
    "    return pps_"
   ]
  },
  {
   "cell_type": "markdown",
   "metadata": {},
   "source": [
    "## Using NLTK.Tree for recognizing NE"
   ]
  },
  {
   "cell_type": "markdown",
   "metadata": {},
   "source": [
    "NLTK `ne_chunk` page: (`ne` is short for named entities)\n",
    "http://www.nltk.org/book/ch07.html\n",
    "\n",
    "```\n",
    "NE Type\tExamples\n",
    "ORGANIZATION\tGeorgia-Pacific Corp., WHO\n",
    "PERSON\tEddy Bonte, President Obama\n",
    "LOCATION\tMurray River, Mount Everest\n",
    "DATE\tJune, 2008-06-29\n",
    "TIME\ttwo fifty a m, 1:30 p.m.\n",
    "MONEY\t175 million Canadian Dollars, GBP 10.40\n",
    "PERCENT\ttwenty pct, 18.75 %\n",
    "FACILITY\tWashington Monument, Stonehenge\n",
    "GPE\tSouth East Asia, Midlothian\n",
    "```"
   ]
  },
  {
   "cell_type": "code",
   "execution_count": 35,
   "metadata": {
    "collapsed": true
   },
   "outputs": [],
   "source": [
    "from nltk.tree import Tree\n",
    "from nltk.chunk import ne_chunk"
   ]
  },
  {
   "cell_type": "code",
   "execution_count": 37,
   "metadata": {
    "collapsed": true
   },
   "outputs": [],
   "source": [
    "def extract_ne(ne_type):\n",
    "    pps = []\n",
    "    for line in subtitles_lines[0][3:-1]:\n",
    "        tagged_sent = pos_tag(word_tokenize(line))\n",
    "        pps.extend([chunk[0][0] for chunk in ne_chunk(tagged_sent) \\\n",
    "                    if isinstance(chunk, Tree) and chunk._label == ne_type])\n",
    "    pps = remove_stopwords(pps)\n",
    "    return pps"
   ]
  },
  {
   "cell_type": "code",
   "execution_count": 39,
   "metadata": {
    "collapsed": true
   },
   "outputs": [],
   "source": [
    "pps = extract_ne('PERSON')"
   ]
  },
  {
   "cell_type": "markdown",
   "metadata": {},
   "source": [
    "## Extracting verbs from the sentence"
   ]
  },
  {
   "cell_type": "code",
   "execution_count": 18,
   "metadata": {
    "collapsed": true
   },
   "outputs": [],
   "source": [
    "verbs = []\n",
    "tagged_sents = []\n",
    "for line in subtitles_lines[0][3:-1]:\n",
    "    tagged_sent = pos_tag(word_tokenize(line))\n",
    "    verbs.extend ([(word, pos) for word, pos in tagged_sent if pos.startswith('VB')])\n",
    "    tagged_sents.append(tagged_sent)"
   ]
  },
  {
   "cell_type": "code",
   "execution_count": null,
   "metadata": {
    "collapsed": true
   },
   "outputs": [],
   "source": []
  }
 ],
 "metadata": {
  "kernelspec": {
   "display_name": "Python 3",
   "language": "python",
   "name": "python3"
  },
  "language_info": {
   "codemirror_mode": {
    "name": "ipython",
    "version": 3
   },
   "file_extension": ".py",
   "mimetype": "text/x-python",
   "name": "python",
   "nbconvert_exporter": "python",
   "pygments_lexer": "ipython3",
   "version": "3.6.3"
  }
 },
 "nbformat": 4,
 "nbformat_minor": 2
}

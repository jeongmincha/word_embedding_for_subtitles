{
 "cells": [
  {
   "cell_type": "markdown",
   "metadata": {},
   "source": [
    "## Importing subtitles data"
   ]
  },
  {
   "cell_type": "code",
   "execution_count": 1,
   "metadata": {},
   "outputs": [],
   "source": [
    "import glob\n",
    "import os\n",
    "import sys"
   ]
  },
  {
   "cell_type": "markdown",
   "metadata": {
    "collapsed": true
   },
   "source": [
    "### Import SRT subtitles data"
   ]
  },
  {
   "cell_type": "code",
   "execution_count": 2,
   "metadata": {},
   "outputs": [],
   "source": [
    "seasons = [1, 6, 7, 10]\n",
    "seasons = [str(season) for season in seasons]\n",
    "subtitles_data_srt = []\n",
    "\n",
    "for season in seasons:\n",
    "    path = './data/friends-season-' + season + '/'\n",
    "    for file in os.listdir(path):\n",
    "        f = open(path + file, 'rb')\n",
    "        content = f.read().decode('utf8', 'ignore')\n",
    "        subtitles_data_srt.append(content)"
   ]
  },
  {
   "cell_type": "markdown",
   "metadata": {},
   "source": [
    "### Import SUB subtitles data"
   ]
  },
  {
   "cell_type": "code",
   "execution_count": 3,
   "metadata": {},
   "outputs": [],
   "source": [
    "seasons = [2,3,4,5,8,9]\n",
    "seasons = [str(season) for season in seasons]\n",
    "subtitles_data_sub = []\n",
    "\n",
    "for season in seasons:\n",
    "    path = './data/friends-season-' + season + '/'\n",
    "    for file in os.listdir(path):\n",
    "        f = open(path + file, 'rb')\n",
    "        content = f.read().decode('utf8', 'ignore')\n",
    "        subtitles_data_sub.append(content)"
   ]
  },
  {
   "cell_type": "markdown",
   "metadata": {},
   "source": [
    "## Extracting only lines (대사) from the files"
   ]
  },
  {
   "cell_type": "code",
   "execution_count": 4,
   "metadata": {},
   "outputs": [],
   "source": [
    "import re"
   ]
  },
  {
   "cell_type": "code",
   "execution_count": 5,
   "metadata": {},
   "outputs": [],
   "source": [
    "def extract_dialogue_sub(file_content):\n",
    "    dialogue = []\n",
    "    lines = file_content.split('\\r\\n')\n",
    "    for line in lines:\n",
    "        s = re.sub('{.*?}', '', line)\n",
    "        s = re.sub('\\|', ' ', s)\n",
    "        dialogue.append(s)\n",
    "    return dialogue"
   ]
  },
  {
   "cell_type": "code",
   "execution_count": 6,
   "metadata": {},
   "outputs": [],
   "source": [
    "subtitles_lines_sub = []\n",
    "for content in subtitles_data_sub:\n",
    "    subtitles_lines_sub.append(extract_dialogue_sub(content))"
   ]
  },
  {
   "cell_type": "code",
   "execution_count": 7,
   "metadata": {},
   "outputs": [],
   "source": [
    "def extract_dialogue_srt(file_content):\n",
    "    dialogue = []\n",
    "    lines = file_content.split('\\r\\n\\r\\n')\n",
    "    for line in lines:\n",
    "        dialogue.extend(line.split('\\r\\n')[2:])\n",
    "    return dialogue"
   ]
  },
  {
   "cell_type": "code",
   "execution_count": 8,
   "metadata": {},
   "outputs": [],
   "source": [
    "subtitles_lines_srt = []\n",
    "for content in subtitles_data_srt:\n",
    "    subtitles_lines_srt.append(extract_dialogue_srt(content))"
   ]
  },
  {
   "cell_type": "code",
   "execution_count": 35,
   "metadata": {},
   "outputs": [],
   "source": [
    "subtitles_lines = []\n",
    "subtitles_lines.extend(subtitles_lines_srt)\n",
    "subtitles_lines.extend(subtitles_lines_sub)"
   ]
  },
  {
   "cell_type": "code",
   "execution_count": 39,
   "metadata": {},
   "outputs": [],
   "source": [
    "# Save pickle data for all subtitles_lines\n",
    "import pickle\n",
    "\n",
    "with open('./results/subtitles_lines.pkl', 'wb') as f:\n",
    "    pickle.dump(subtitles_lines, f)\n",
    "\n",
    "# with open('./results/subtitles_lines.pkl', 'rb') as f:\n",
    "#     subtitles_lines = pickle.load(f)"
   ]
  },
  {
   "cell_type": "markdown",
   "metadata": {},
   "source": [
    "## Recognizing Proper Noun via POS tagging"
   ]
  },
  {
   "cell_type": "code",
   "execution_count": 10,
   "metadata": {},
   "outputs": [],
   "source": [
    "from nltk.tag import pos_tag\n",
    "from nltk.tokenize import word_tokenize"
   ]
  },
  {
   "cell_type": "code",
   "execution_count": 11,
   "metadata": {},
   "outputs": [],
   "source": [
    "pps = []\n",
    "for line in subtitles_lines[0][3:-1]:\n",
    "#     tagged_sent = pos_tag([token.lower() for token in word_tokenize(line)])\n",
    "    tagged_sent = pos_tag(word_tokenize(line))\n",
    "    pps.extend ([word for word, pos in tagged_sent if pos == 'NNP'])"
   ]
  },
  {
   "cell_type": "markdown",
   "metadata": {},
   "source": [
    "## Removing stop words"
   ]
  },
  {
   "cell_type": "code",
   "execution_count": 13,
   "metadata": {},
   "outputs": [],
   "source": [
    "def remove_stopwords(pps):\n",
    "    f = open('./stopwords.txt', 'r')\n",
    "    stoplist = set(f.read().split())\n",
    "    f.close()    \n",
    "    pps_ = [pp for pp in pps if not pp.lower() in stoplist]\n",
    "    return pps_"
   ]
  },
  {
   "cell_type": "markdown",
   "metadata": {},
   "source": [
    "## Using NLTK.Tree for recognizing NE"
   ]
  },
  {
   "cell_type": "markdown",
   "metadata": {},
   "source": [
    "NLTK `ne_chunk` page: (`ne` is short for named entities)\n",
    "http://www.nltk.org/book/ch07.html\n",
    "\n",
    "```\n",
    "NE Type\tExamples\n",
    "ORGANIZATION\tGeorgia-Pacific Corp., WHO\n",
    "PERSON\tEddy Bonte, President Obama\n",
    "LOCATION\tMurray River, Mount Everest\n",
    "DATE\tJune, 2008-06-29\n",
    "TIME\ttwo fifty a m, 1:30 p.m.\n",
    "MONEY\t175 million Canadian Dollars, GBP 10.40\n",
    "PERCENT\ttwenty pct, 18.75 %\n",
    "FACILITY\tWashington Monument, Stonehenge\n",
    "GPE\tSouth East Asia, Midlothian\n",
    "```"
   ]
  },
  {
   "cell_type": "code",
   "execution_count": 14,
   "metadata": {},
   "outputs": [],
   "source": [
    "from nltk.tree import Tree\n",
    "from nltk.chunk import ne_chunk"
   ]
  },
  {
   "cell_type": "code",
   "execution_count": 22,
   "metadata": {},
   "outputs": [],
   "source": [
    "def extract_ne(ne_type):\n",
    "    pps = []\n",
    "    for line in subtitles_lines[0]:\n",
    "        tagged_sent = pos_tag(word_tokenize(line))\n",
    "        pps.extend([chunk[0][0] for chunk in ne_chunk(tagged_sent) \\\n",
    "                    if isinstance(chunk, Tree) and chunk._label == ne_type])\n",
    "    pps = remove_stopwords(pps)\n",
    "    return pps"
   ]
  },
  {
   "cell_type": "code",
   "execution_count": 17,
   "metadata": {},
   "outputs": [],
   "source": [
    "pps = extract_ne('PERSON')"
   ]
  },
  {
   "cell_type": "markdown",
   "metadata": {},
   "source": [
    "## Making json files for objects"
   ]
  },
  {
   "cell_type": "code",
   "execution_count": 23,
   "metadata": {},
   "outputs": [],
   "source": [
    "import json"
   ]
  },
  {
   "cell_type": "code",
   "execution_count": 40,
   "metadata": {},
   "outputs": [],
   "source": [
    "def make_objects_json(objs, class_idx):\n",
    "    idx = 1\n",
    "    json_str = \"\"\n",
    "    for obj in objs:\n",
    "        d = dict()\n",
    "        d[\"id\"] = \"O\" + str(idx)\n",
    "        d[\"class\"] = \"C\" + str(class_idx)\n",
    "        d[\"type\"] = \"object\"\n",
    "        d[\"title\"] = str(obj)\n",
    "        idx += 1\n",
    "        json_str += json.dumps(d) + \", \"\n",
    "    \n",
    "    return json_str[:-2]"
   ]
  },
  {
   "cell_type": "code",
   "execution_count": 41,
   "metadata": {},
   "outputs": [
    {
     "name": "stdout",
     "output_type": "stream",
     "text": [
      "ORGANIZATION, 5\n",
      "PERSON, 18\n",
      "LOCATION, 0\n",
      "DATE, 0\n",
      "TIME, 0\n",
      "MONEY, 0\n",
      "PERCENT, 0\n",
      "FACILITY, 0\n",
      "GPE, 18\n"
     ]
    }
   ],
   "source": [
    "ne_types = ['ORGANIZATION', 'PERSON', 'LOCATION', 'DATE', 'TIME', 'MONEY', 'PERCENT', 'FACILITY', 'GPE']\n",
    "index = 1\n",
    "f = open('./results/object_class.json', 'w')\n",
    "\n",
    "for ne_type in ne_types:    \n",
    "    d = dict()\n",
    "    d[\"id\"] = \"C\" + str(index)\n",
    "    d[\"type\"] = \"object-class\"\n",
    "    d[\"title\"] = ne_type\n",
    "    pps = extract_ne(ne_type)\n",
    "    print (str(ne_type) + \", \" + str(len(list(set(pps)))))\n",
    "    d[\"objects\"] = make_objects_json(list(set(pps)), index)\n",
    "    d = json.dumps(d)\n",
    "    f.write(d+\"\\n\")\n",
    "    index += 1\n",
    "\n",
    "f.close()"
   ]
  },
  {
   "cell_type": "markdown",
   "metadata": {},
   "source": [
    "## Extracting verbs from the sentence"
   ]
  },
  {
   "cell_type": "code",
   "execution_count": null,
   "metadata": {},
   "outputs": [],
   "source": [
    "verbs = []\n",
    "tagged_sents = []\n",
    "for line in subtitles_lines[0][3:-1]:\n",
    "    tagged_sent = pos_tag(word_tokenize(line))\n",
    "    verbs.extend ([(word, pos) for word, pos in tagged_sent if pos.startswith('VB')])\n",
    "    tagged_sents.append(tagged_sent)"
   ]
  },
  {
   "cell_type": "code",
   "execution_count": null,
   "metadata": {},
   "outputs": [],
   "source": []
  }
 ],
 "metadata": {
  "kernelspec": {
   "display_name": "Python 3",
   "language": "python",
   "name": "python3"
  },
  "language_info": {
   "codemirror_mode": {
    "name": "ipython",
    "version": 3
   },
   "file_extension": ".py",
   "mimetype": "text/x-python",
   "name": "python",
   "nbconvert_exporter": "python",
   "pygments_lexer": "ipython3",
   "version": "3.5.4"
  }
 },
 "nbformat": 4,
 "nbformat_minor": 2
}

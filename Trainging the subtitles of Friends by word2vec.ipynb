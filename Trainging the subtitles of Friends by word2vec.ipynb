{
 "cells": [
  {
   "cell_type": "markdown",
   "metadata": {},
   "source": [
    "## Import subtitles"
   ]
  },
  {
   "cell_type": "code",
   "execution_count": 12,
   "metadata": {},
   "outputs": [],
   "source": [
    "import glob"
   ]
  },
  {
   "cell_type": "code",
   "execution_count": 13,
   "metadata": {},
   "outputs": [],
   "source": [
    "BASE_PATH = './friends-season-1/'\n",
    "idcs = [str(_).zfill(2) for _ in range(1, 25)]\n",
    "subtitles_data = []\n",
    "\n",
    "for idx in idcs[:]:\n",
    "    fn = glob.glob(BASE_PATH + '*1x' + idx + '*')\n",
    "    f = open(fn[0], 'rb')\n",
    "    \n",
    "    content = f.read().decode('utf8', 'ignore')\n",
    "    subtitles_data.append(content)"
   ]
  },
  {
   "cell_type": "markdown",
   "metadata": {},
   "source": [
    "## Extracting only lines (대사) from the files"
   ]
  },
  {
   "cell_type": "code",
   "execution_count": 16,
   "metadata": {},
   "outputs": [],
   "source": [
    "def extract_dialogue(file_content):\n",
    "    dialogue = []\n",
    "    lines = file_content.split('\\r\\n\\r\\n')\n",
    "    for line in lines:\n",
    "        dialogue.extend(line.split('\\r\\n')[2:])\n",
    "    return dialogue"
   ]
  },
  {
   "cell_type": "code",
   "execution_count": 17,
   "metadata": {},
   "outputs": [],
   "source": [
    "subtitles_lines = []\n",
    "for content in subtitles_data:\n",
    "    subtitles_lines.append(extract_dialogue(content))"
   ]
  },
  {
   "cell_type": "code",
   "execution_count": 20,
   "metadata": {},
   "outputs": [
    {
     "data": {
      "text/plain": [
       "659"
      ]
     },
     "execution_count": 20,
     "metadata": {},
     "output_type": "execute_result"
    }
   ],
   "source": [
    "len(subtitles_lines[0])"
   ]
  },
  {
   "cell_type": "code",
   "execution_count": 41,
   "metadata": {},
   "outputs": [],
   "source": [
    "from nltk.tokenize import word_tokenize\n",
    "\n",
    "sentences = []\n",
    "for subtitle_lines in subtitles_lines:\n",
    "    # first three sentences are not to be used\n",
    "    for line in subtitle_lines[3:]:\n",
    "        sentences.append(word_tokenize(line))"
   ]
  },
  {
   "cell_type": "markdown",
   "metadata": {},
   "source": [
    "## Word2Vec model"
   ]
  },
  {
   "cell_type": "code",
   "execution_count": 24,
   "metadata": {},
   "outputs": [],
   "source": [
    "from gensim.models import Word2Vec\n",
    "from nltk.tag import pos_tag\n",
    "from nltk.tokenize import word_tokenize"
   ]
  },
  {
   "cell_type": "code",
   "execution_count": 39,
   "metadata": {},
   "outputs": [],
   "source": [
    "# example\n",
    "from nltk.corpus import movie_reviews\n",
    "sentences = [list(s) for s in movie_reviews.sents()]"
   ]
  },
  {
   "cell_type": "code",
   "execution_count": 44,
   "metadata": {},
   "outputs": [
    {
     "name": "stdout",
     "output_type": "stream",
     "text": [
      "CPU times: user 272 ms, sys: 3.82 ms, total: 275 ms\n",
      "Wall time: 129 ms\n"
     ]
    }
   ],
   "source": [
    "%%time\n",
    "model = Word2Vec(sentences)"
   ]
  },
  {
   "cell_type": "code",
   "execution_count": 46,
   "metadata": {},
   "outputs": [],
   "source": [
    "model.init_sims(replace=True)"
   ]
  },
  {
   "cell_type": "code",
   "execution_count": 51,
   "metadata": {},
   "outputs": [
    {
     "data": {
      "text/plain": [
       "[('Monica', 0.9997295141220093),\n",
       " ('Joey', 0.9997029900550842),\n",
       " ('man', 0.9996672868728638),\n",
       " ('Rachel', 0.9996545910835266),\n",
       " ('Hey', 0.9996531009674072),\n",
       " ('Here', 0.9996488094329834),\n",
       " ('getting', 0.9996477365493774),\n",
       " ('Phoebe', 0.9996471405029297),\n",
       " ('come', 0.999645471572876),\n",
       " ('Right', 0.9996445178985596)]"
      ]
     },
     "execution_count": 51,
     "metadata": {},
     "output_type": "execute_result"
    }
   ],
   "source": [
    "model.most_similar('Ross')"
   ]
  },
  {
   "cell_type": "code",
   "execution_count": null,
   "metadata": {},
   "outputs": [],
   "source": []
  }
 ],
 "metadata": {
  "kernelspec": {
   "display_name": "Python 3",
   "language": "python",
   "name": "python3"
  },
  "language_info": {
   "codemirror_mode": {
    "name": "ipython",
    "version": 3
   },
   "file_extension": ".py",
   "mimetype": "text/x-python",
   "name": "python",
   "nbconvert_exporter": "python",
   "pygments_lexer": "ipython3",
   "version": "3.5.4"
  }
 },
 "nbformat": 4,
 "nbformat_minor": 2
}
